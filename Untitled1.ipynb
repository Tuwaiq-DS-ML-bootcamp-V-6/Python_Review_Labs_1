{
 "cells": [
  {
   "cell_type": "code",
   "execution_count": 1,
   "id": "b7ff6ae0-a628-462e-b9a1-e0f763455c02",
   "metadata": {},
   "outputs": [],
   "source": [
    "#variables\n",
    "fav_season = \"spring\"\n",
    "x = 5\n",
    "y= 5.50\n",
    "x=y=z=3\n",
    "x,y,z= 11 ,12,13"
   ]
  },
  {
   "cell_type": "code",
   "execution_count": 2,
   "id": "bbfddf65-9169-4c70-a558-dbb24ccbcf35",
   "metadata": {},
   "outputs": [
    {
     "name": "stdout",
     "output_type": "stream",
     "text": [
      "I recommend it, it's good\n"
     ]
    }
   ],
   "source": [
    "#conditions\n",
    "movie = \"top gun\"\n",
    "rating = 3\n",
    "popularity_score = 72.65\n",
    "if rating >= 4 and popularity_score > 80:\n",
    "    print(\"Highly recommended\")\n",
    "elif rating >= 3 and popularity_score > 70:\n",
    "    print(\"I recommend it, it's good\")\n",
    "elif rating <= 2 and popularity_score > 60:\n",
    "    print(\"You should check it out!\")\n",
    "else:\n",
    "    print(\"Don't watch it, it's a waste of time\")\n"
   ]
  },
  {
   "cell_type": "code",
   "execution_count": null,
   "id": "f3c9fec1-d5dc-468f-874d-5e55b8e80153",
   "metadata": {},
   "outputs": [],
   "source": []
  }
 ],
 "metadata": {
  "kernelspec": {
   "display_name": "Python 3 (ipykernel)",
   "language": "python",
   "name": "python3"
  },
  "language_info": {
   "codemirror_mode": {
    "name": "ipython",
    "version": 3
   },
   "file_extension": ".py",
   "mimetype": "text/x-python",
   "name": "python",
   "nbconvert_exporter": "python",
   "pygments_lexer": "ipython3",
   "version": "3.11.7"
  }
 },
 "nbformat": 4,
 "nbformat_minor": 5
}
