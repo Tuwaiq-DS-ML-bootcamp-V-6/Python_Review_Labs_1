{
 "cells": [
  {
   "cell_type": "markdown",
   "id": "b97dc926",
   "metadata": {},
   "source": [
    "## Lab1-Variables\n",
    "- Define a variable that has a value of your favourite season.\n",
    "- Define “x“ variable has an integer value and variable “y” has a float value.\n",
    "- Assign One Value to Multiple Variables.\n",
    "- Assign Many Values to Multiple Variables."
   ]
  },
  {
   "cell_type": "code",
   "execution_count": null,
   "id": "8d2579eb",
   "metadata": {},
   "outputs": [],
   "source": [
    "# Define a variable for your favorite season\n",
    "favorite_season = \"Spring\"\n",
    "\n",
    "# Define variables \"x\" and \"y\"\n",
    "x = 10\n",
    "y = 3.14\n",
    "\n",
    "# Assign one value to multiple variables\n",
    "a = b = c = 100\n",
    "\n",
    "# Assign many values to multiple variables\n",
    "d, e, f = 1, 2, 3\n",
    "\n",
    "# Print the values of all variables\n",
    "print(\"Favorite season:\", favorite_season)\n",
    "print(\"x value:\", x)\n",
    "print(\"y value:\", y)\n",
    "print(\"a, b, c values:\", a, b, c)\n",
    "print(\"d, e, f values:\", d, e, f)"
   ]
  },
  {
   "cell_type": "markdown",
   "id": "e6d060b4",
   "metadata": {},
   "source": [
    "## Lab2-Conditions\n",
    "\n",
    "### You want to recommend a movie to a friend based on the rating and popularity. To accomplish this do the following: \n",
    "\n",
    "- Create a variable for the movie (choose any movie you like).\n",
    "- Create a variable of type int to hold the rating of the movie out of 5. Give this movie rate = 3\n",
    "- Create a popularity score of type float, let it be 72.65\n",
    "- Using an if statement:\n",
    " - Check if the movie rating is 4 or greater and the popularity is greater than 80, print \"Highly recommended\".\n",
    " - Else if the movie rating is 3 or greater and the popularity is greater than 70, print \"I recommended it, It is good\".\n",
    " - Else if the movie rating is 2 or less and the popularity is greater than 60, print \"You should check it out!\".\n",
    " - Else the movie rating is 2 or less and the popularity is less than 50, print \"Don't watch it, It is a waste of time\"."
   ]
  },
  {
   "cell_type": "code",
   "execution_count": null,
   "id": "b41b0f4b",
   "metadata": {},
   "outputs": [],
   "source": [
    "# Define variables\n",
    "movie = \"Inception\"\n",
    "rating = 3\n",
    "popularity = 72.65\n",
    "\n",
    "# Using if statement to check conditions\n",
    "if rating >= 4 and popularity > 80:\n",
    "    print(\"Highly recommended\")\n",
    "elif rating >= 3 and popularity > 70:\n",
    "    print(\"I recommend it, It is good\")\n",
    "elif rating <= 2 and popularity > 60:\n",
    "    print(\"You should check it out!\")\n",
    "elif rating <= 2 and popularity < 50:\n",
    "    print(\"Don't watch it, It is a waste of time\")"
   ]
  }
 ],
 "metadata": {
  "kernelspec": {
   "display_name": "Python 3 (ipykernel)",
   "language": "python",
   "name": "python3"
  },
  "language_info": {
   "codemirror_mode": {
    "name": "ipython",
    "version": 3
   },
   "file_extension": ".py",
   "mimetype": "text/x-python",
   "name": "python",
   "nbconvert_exporter": "python",
   "pygments_lexer": "ipython3",
   "version": "3.11.7"
  }
 },
 "nbformat": 4,
 "nbformat_minor": 5
}
