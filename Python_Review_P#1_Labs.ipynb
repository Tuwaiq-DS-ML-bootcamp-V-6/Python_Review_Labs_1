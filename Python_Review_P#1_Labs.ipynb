{
 "cells": [
  {
   "cell_type": "markdown",
   "id": "b97dc926",
   "metadata": {},
   "source": [
    "## Lab1-Variables\n",
    "- Define a variable that has a value of your favourite season.\n",
    "- Define “x“ variable has an integer value and variable “y” has a float value.\n",
    "- Assign One Value to Multiple Variables.\n",
    "- Assign Many Values to Multiple Variables."
   ]
  },
  {
   "cell_type": "code",
   "execution_count": 10,
   "id": "8d2579eb",
   "metadata": {},
   "outputs": [],
   "source": [
    "#1\n",
    "favourite = \"Winter\"\n",
    "\n",
    "#2\n",
    "x = 5\n",
    "y = 6.000\n",
    "\n",
    "\n",
    "#3\n",
    "var1 = var2 = var3 = 5\n",
    "\n",
    "#4\n",
    "var4, var5, var6 = 6, 7, 8\n"
   ]
  },
  {
   "cell_type": "markdown",
   "id": "e6d060b4",
   "metadata": {},
   "source": [
    "## Lab2-Conditions\n",
    "\n",
    "### You want to recommend a movie to a friend based on the rating and popularity. To accomplish this do the following: \n",
    "\n",
    "- Create a variable for the movie (choose any movie you like).\n",
    "- Create a variable of type int to hold the rating of the movie out of 5. Give this movie rate = 3\n",
    "- Create a popularity score of type float, let it be 72.65\n",
    "- Using an if statement:\n",
    " - Check if the movie rating is 4 or greater and the popularity is greater than 80, print \"Highly recommended\".\n",
    " - Else if the movie rating is 3 or greater and the popularity is greater than 70, print \"I recommended it, It is good\".\n",
    " - Else if the movie rating is 2 or less and the popularity is greater than 60, print \"You should check it out!\".\n",
    " - Else the movie rating is 2 or less and the popularity is less than 50, print \"Don't watch it, It is a waste of time\"."
   ]
  },
  {
   "cell_type": "code",
   "execution_count": 12,
   "id": "b41b0f4b",
   "metadata": {},
   "outputs": [
    {
     "name": "stdout",
     "output_type": "stream",
     "text": [
      "I recommended it, It is good\n"
     ]
    }
   ],
   "source": [
    "#1\n",
    "Movie = 'Dune2' \n",
    "\n",
    "\n",
    "#2\n",
    "Rate = 3\n",
    "\n",
    "\n",
    "#3\n",
    "Popularity = 72.65\n",
    "\n",
    "\n",
    "#4\n",
    "if Rate >= 4 and Popularity > 80 :\n",
    "    print(\"Highly recommended\")\n",
    "    \n",
    "elif Rate >= 3 and Popularity > 70 :\n",
    "    print(\"I recommended it, It is good\")\n",
    "    \n",
    "elif Rate <= 2 and Popularity > 60 :\n",
    "    print(\"You should check it out!\")\n",
    "    \n",
    "else:\n",
    "    print(\"Don't watch it, It is a waste of time\")\n"
   ]
  }
 ],
 "metadata": {
  "kernelspec": {
   "display_name": "Python 3",
   "language": "python",
   "name": "python3"
  },
  "language_info": {
   "codemirror_mode": {
    "name": "ipython",
    "version": 3
   },
   "file_extension": ".py",
   "mimetype": "text/x-python",
   "name": "python",
   "nbconvert_exporter": "python",
   "pygments_lexer": "ipython3",
   "version": "3.8.8"
  }
 },
 "nbformat": 4,
 "nbformat_minor": 5
}
